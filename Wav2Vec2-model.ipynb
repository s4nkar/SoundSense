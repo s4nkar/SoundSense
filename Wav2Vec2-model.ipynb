{
 "cells": [
  {
   "cell_type": "code",
   "execution_count": 22,
   "id": "e370164c",
   "metadata": {},
   "outputs": [],
   "source": [
    "import os\n",
    "import torch\n",
    "import torchaudio\n",
    "from torch.utils.data import Dataset, DataLoader\n",
    "from transformers import Wav2Vec2Processor, Wav2Vec2ForSequenceClassification\n",
    "from torch.optim import AdamW\n",
    "import numpy as np\n",
    "from sklearn.model_selection import train_test_split\n",
    "from tqdm import tqdm\n",
    "from torch.nn.utils.rnn import pad_sequence\n",
    "\n",
    "# Emotion to integer mapping for the CREMA-D dataset\n",
    "emotion_map = {\n",
    "    \"ANG\": 0,  # Anger\n",
    "    \"DIS\": 1,  # Disgust\n",
    "    \"FEA\": 2,  # Fear\n",
    "    \"HAP\": 3,  # Happy\n",
    "    \"NEU\": 4,  # Neutral\n",
    "    \"SAD\": 5,  # Sad\n",
    "}\n",
    "\n",
    "class CREMADataset(Dataset):\n",
    "    def __init__(self, audio_dir, processor, emotion_map, file_paths=None, labels=None, sample_rate=16000):\n",
    "        self.audio_dir = audio_dir\n",
    "        self.processor = processor\n",
    "        self.emotion_map = emotion_map\n",
    "        self.sample_rate = sample_rate\n",
    "        self.file_paths = []\n",
    "        self.labels = []\n",
    "\n",
    "        if file_paths is not None and labels is not None:\n",
    "            self.file_paths = file_paths\n",
    "            self.labels = labels\n",
    "        else:\n",
    "            for file_name in os.listdir(audio_dir):\n",
    "                if file_name.endswith(\".wav\"):\n",
    "                    parts = file_name.split('_')\n",
    "                    if len(parts) < 3:\n",
    "                        continue\n",
    "                    emotion = parts[2]\n",
    "                    label = self.emotion_map.get(emotion, -1)\n",
    "                    if label != -1:\n",
    "                        self.file_paths.append(os.path.join(audio_dir, file_name))\n",
    "                        self.labels.append(label)\n",
    "\n",
    "    def __len__(self):\n",
    "        return len(self.file_paths)\n",
    "\n",
    "    def __getitem__(self, idx):\n",
    "        file_path = self.file_paths[idx]\n",
    "        label = self.labels[idx]\n",
    "        \n",
    "        # Load audio file\n",
    "        waveform, sr = torchaudio.load(file_path)\n",
    "        \n",
    "        # Resample if necessary\n",
    "        if sr != self.sample_rate:\n",
    "            waveform = torchaudio.transforms.Resample(sr, self.sample_rate)(waveform)\n",
    "        \n",
    "        # Use Wav2Vec2 processor to get features\n",
    "        # inputs = self.processor(waveform.squeeze(0).numpy(), sampling_rate=self.sample_rate, return_tensors=\"pt\", padding=True, truncation=True)\n",
    "        inputs = processor(waveform.squeeze(0).numpy(), sampling_rate=self.sample_rate, return_tensors=\"pt\", padding=True, truncation=True, max_length=16000)\n",
    "\n",
    "\n",
    "        input_values = inputs['input_values'].squeeze(0)  # Remove batch dimension\n",
    "        attention_mask = inputs['attention_mask'].squeeze(0)\n",
    "\n",
    "        return {\n",
    "            'input_values': input_values,\n",
    "            'attention_mask': attention_mask,\n",
    "            'labels': torch.tensor(label, dtype=torch.long)\n",
    "        }\n",
    "\n",
    "from transformers import AutoProcessor\n",
    "from transformers import Wav2Vec2FeatureExtractor\n",
    "\n",
    "# Initialize the processor (which includes tokenizer and feature extractor)\n",
    "# processor = Wav2Vec2Processor.from_pretrained(\"superb/wav2vec2-base-superb-er\")\n",
    "# processor = AutoProcessor.from_pretrained(\"superb/wav2vec2-base-superb-er\")\n",
    "processor = Wav2Vec2FeatureExtractor.from_pretrained(\"superb/wav2vec2-base-superb-er\")\n",
    "\n",
    "\n",
    "# Set max_length (choose a value based on your data)\n",
    "max_length = 16000  # Modify this based on your dataset\n",
    "\n",
    "# Tokenization step (add truncation and padding)\n",
    "def tokenize_function(batch):\n",
    "    # Tokenizing the audio input\n",
    "    audio = batch[\"input_values\"]\n",
    "    return processor(audio, sampling_rate=16000, padding=True, truncation=True, max_length=max_length)\n",
    "\n",
    "# Create dataset instance\n",
    "audio_dir = \"audio-emotion-dataset2\"\n",
    "dataset = CREMADataset(audio_dir=audio_dir, processor=processor, emotion_map=emotion_map)\n",
    "\n",
    "# Split file paths and labels\n",
    "train_file_paths, val_file_paths, train_labels, val_labels = train_test_split(\n",
    "    dataset.file_paths, dataset.labels, test_size=0.2, random_state=42\n",
    ")\n",
    "\n",
    "# Create separate datasets\n",
    "train_dataset = CREMADataset(audio_dir, processor, emotion_map, train_file_paths, train_labels)\n",
    "val_dataset = CREMADataset(audio_dir, processor, emotion_map, val_file_paths, val_labels)\n",
    "\n",
    "# Create DataLoaders for each\n",
    "def collate_fn(batch):\n",
    "    # Extract lists for input_values, attention_mask, and labels\n",
    "    input_values = [item['input_values'] for item in batch]\n",
    "    attention_mask = [item['attention_mask'] for item in batch]\n",
    "    labels = [item['labels'] for item in batch]\n",
    "    \n",
    "    # Pad input sequences to the same length\n",
    "    input_values = pad_sequence(input_values, batch_first=True, padding_value=0)\n",
    "    attention_mask = pad_sequence(attention_mask, batch_first=True, padding_value=0)\n",
    "    \n",
    "    # Stack labels as they are integers and don't need padding\n",
    "    labels = torch.stack(labels, dim=0)\n",
    "    \n",
    "    return {\n",
    "        'input_values': input_values,\n",
    "        'attention_mask': attention_mask,\n",
    "        'labels': labels\n",
    "    }\n",
    "\n",
    "train_loader = DataLoader(train_dataset, batch_size=8, shuffle=True, collate_fn=collate_fn)\n",
    "val_loader = DataLoader(val_dataset, batch_size=8, shuffle=False, collate_fn=collate_fn)"
   ]
  },
  {
   "cell_type": "code",
   "execution_count": 23,
   "id": "f437fd20",
   "metadata": {},
   "outputs": [
    {
     "name": "stdout",
     "output_type": "stream",
     "text": [
      "Counter({1: 1271, 3: 1271, 2: 1271, 0: 1271, 5: 1270, 4: 1087})\n"
     ]
    }
   ],
   "source": [
    "from collections import Counter\n",
    "\n",
    "label_counts = Counter(train_labels + val_labels)  # or test_labels if available\n",
    "print(label_counts)\n"
   ]
  },
  {
   "cell_type": "code",
   "execution_count": 24,
   "id": "1fb3a9b4",
   "metadata": {},
   "outputs": [
    {
     "name": "stderr",
     "output_type": "stream",
     "text": [
      "Some weights of Wav2Vec2ForSequenceClassification were not initialized from the model checkpoint at superb/wav2vec2-base-superb-er and are newly initialized because the shapes did not match:\n",
      "- classifier.weight: found shape torch.Size([4, 256]) in the checkpoint and torch.Size([6, 256]) in the model instantiated\n",
      "- classifier.bias: found shape torch.Size([4]) in the checkpoint and torch.Size([6]) in the model instantiated\n",
      "You should probably TRAIN this model on a down-stream task to be able to use it for predictions and inference.\n",
      "Epoch 1 - Training: 100%|██████████| 744/744 [02:43<00:00,  4.55it/s]\n"
     ]
    },
    {
     "name": "stdout",
     "output_type": "stream",
     "text": [
      "Train Loss: 1.6691 - Train Accuracy: 0.2986\n"
     ]
    },
    {
     "name": "stderr",
     "output_type": "stream",
     "text": [
      "Epoch 1 - Validation: 100%|██████████| 187/187 [00:07<00:00, 24.91it/s]\n"
     ]
    },
    {
     "name": "stdout",
     "output_type": "stream",
     "text": [
      "Validation Loss: 1.4678 - Validation Accuracy: 0.3794\n",
      "Saved the best model at epoch 1.\n"
     ]
    },
    {
     "name": "stderr",
     "output_type": "stream",
     "text": [
      "Epoch 2 - Training: 100%|██████████| 744/744 [02:06<00:00,  5.90it/s]\n"
     ]
    },
    {
     "name": "stdout",
     "output_type": "stream",
     "text": [
      "Train Loss: 1.4128 - Train Accuracy: 0.4244\n"
     ]
    },
    {
     "name": "stderr",
     "output_type": "stream",
     "text": [
      "Epoch 2 - Validation: 100%|██████████| 187/187 [00:08<00:00, 22.41it/s]\n"
     ]
    },
    {
     "name": "stdout",
     "output_type": "stream",
     "text": [
      "Validation Loss: 1.3938 - Validation Accuracy: 0.4345\n",
      "Saved the best model at epoch 2.\n"
     ]
    },
    {
     "name": "stderr",
     "output_type": "stream",
     "text": [
      "Epoch 3 - Training: 100%|██████████| 744/744 [02:12<00:00,  5.62it/s]\n"
     ]
    },
    {
     "name": "stdout",
     "output_type": "stream",
     "text": [
      "Train Loss: 1.3272 - Train Accuracy: 0.4664\n"
     ]
    },
    {
     "name": "stderr",
     "output_type": "stream",
     "text": [
      "Epoch 3 - Validation: 100%|██████████| 187/187 [00:08<00:00, 21.35it/s]\n"
     ]
    },
    {
     "name": "stdout",
     "output_type": "stream",
     "text": [
      "Validation Loss: 1.3041 - Validation Accuracy: 0.4688\n",
      "Saved the best model at epoch 3.\n"
     ]
    },
    {
     "name": "stderr",
     "output_type": "stream",
     "text": [
      "Epoch 4 - Training: 100%|██████████| 744/744 [02:15<00:00,  5.48it/s]\n"
     ]
    },
    {
     "name": "stdout",
     "output_type": "stream",
     "text": [
      "Train Loss: 1.2706 - Train Accuracy: 0.5010\n"
     ]
    },
    {
     "name": "stderr",
     "output_type": "stream",
     "text": [
      "Epoch 4 - Validation: 100%|██████████| 187/187 [00:09<00:00, 20.31it/s]\n"
     ]
    },
    {
     "name": "stdout",
     "output_type": "stream",
     "text": [
      "Validation Loss: 1.2380 - Validation Accuracy: 0.5118\n",
      "Saved the best model at epoch 4.\n"
     ]
    },
    {
     "name": "stderr",
     "output_type": "stream",
     "text": [
      "Epoch 5 - Training: 100%|██████████| 744/744 [02:18<00:00,  5.37it/s]\n"
     ]
    },
    {
     "name": "stdout",
     "output_type": "stream",
     "text": [
      "Train Loss: 1.2111 - Train Accuracy: 0.5185\n"
     ]
    },
    {
     "name": "stderr",
     "output_type": "stream",
     "text": [
      "Epoch 5 - Validation: 100%|██████████| 187/187 [00:09<00:00, 20.23it/s]\n"
     ]
    },
    {
     "name": "stdout",
     "output_type": "stream",
     "text": [
      "Validation Loss: 1.2667 - Validation Accuracy: 0.5024\n"
     ]
    },
    {
     "name": "stderr",
     "output_type": "stream",
     "text": [
      "Epoch 6 - Training: 100%|██████████| 744/744 [02:18<00:00,  5.37it/s]\n"
     ]
    },
    {
     "name": "stdout",
     "output_type": "stream",
     "text": [
      "Train Loss: 1.1649 - Train Accuracy: 0.5472\n"
     ]
    },
    {
     "name": "stderr",
     "output_type": "stream",
     "text": [
      "Epoch 6 - Validation: 100%|██████████| 187/187 [00:09<00:00, 20.34it/s]\n"
     ]
    },
    {
     "name": "stdout",
     "output_type": "stream",
     "text": [
      "Validation Loss: 1.2442 - Validation Accuracy: 0.5104\n"
     ]
    },
    {
     "name": "stderr",
     "output_type": "stream",
     "text": [
      "Epoch 7 - Training: 100%|██████████| 744/744 [02:19<00:00,  5.34it/s]\n"
     ]
    },
    {
     "name": "stdout",
     "output_type": "stream",
     "text": [
      "Train Loss: 1.1278 - Train Accuracy: 0.5571\n"
     ]
    },
    {
     "name": "stderr",
     "output_type": "stream",
     "text": [
      "Epoch 7 - Validation: 100%|██████████| 187/187 [00:09<00:00, 20.10it/s]\n"
     ]
    },
    {
     "name": "stdout",
     "output_type": "stream",
     "text": [
      "Validation Loss: 1.2124 - Validation Accuracy: 0.5198\n",
      "Saved the best model at epoch 7.\n"
     ]
    },
    {
     "name": "stderr",
     "output_type": "stream",
     "text": [
      "Epoch 8 - Training: 100%|██████████| 744/744 [02:20<00:00,  5.31it/s]\n"
     ]
    },
    {
     "name": "stdout",
     "output_type": "stream",
     "text": [
      "Train Loss: 1.0946 - Train Accuracy: 0.5691\n"
     ]
    },
    {
     "name": "stderr",
     "output_type": "stream",
     "text": [
      "Epoch 8 - Validation: 100%|██████████| 187/187 [00:09<00:00, 20.15it/s]\n"
     ]
    },
    {
     "name": "stdout",
     "output_type": "stream",
     "text": [
      "Validation Loss: 1.1869 - Validation Accuracy: 0.5373\n",
      "Saved the best model at epoch 8.\n"
     ]
    },
    {
     "name": "stderr",
     "output_type": "stream",
     "text": [
      "Epoch 9 - Training: 100%|██████████| 744/744 [02:20<00:00,  5.31it/s]\n"
     ]
    },
    {
     "name": "stdout",
     "output_type": "stream",
     "text": [
      "Train Loss: 1.0581 - Train Accuracy: 0.5936\n"
     ]
    },
    {
     "name": "stderr",
     "output_type": "stream",
     "text": [
      "Epoch 9 - Validation: 100%|██████████| 187/187 [00:09<00:00, 20.13it/s]\n"
     ]
    },
    {
     "name": "stdout",
     "output_type": "stream",
     "text": [
      "Validation Loss: 1.1774 - Validation Accuracy: 0.5507\n",
      "Saved the best model at epoch 9.\n"
     ]
    },
    {
     "name": "stderr",
     "output_type": "stream",
     "text": [
      "Epoch 10 - Training: 100%|██████████| 744/744 [02:20<00:00,  5.30it/s]\n"
     ]
    },
    {
     "name": "stdout",
     "output_type": "stream",
     "text": [
      "Train Loss: 1.0511 - Train Accuracy: 0.5946\n"
     ]
    },
    {
     "name": "stderr",
     "output_type": "stream",
     "text": [
      "Epoch 10 - Validation: 100%|██████████| 187/187 [00:09<00:00, 19.99it/s]\n"
     ]
    },
    {
     "name": "stdout",
     "output_type": "stream",
     "text": [
      "Validation Loss: 1.1660 - Validation Accuracy: 0.5514\n",
      "Saved the best model at epoch 10.\n"
     ]
    }
   ],
   "source": [
    "from transformers import Wav2Vec2ForSequenceClassification\n",
    "\n",
    "model = Wav2Vec2ForSequenceClassification.from_pretrained(\n",
    "    \"superb/wav2vec2-base-superb-er\",  # Pretrained for Emotion Recognition!\n",
    "    num_labels=len(emotion_map),\n",
    "    ignore_mismatched_sizes=True  # Needed because we re-specify `num_labels`\n",
    ")\n",
    "model.freeze_feature_encoder()\n",
    "\n",
    "# Set up optimizer\n",
    "optimizer = AdamW(model.parameters(), lr=1e-5)\n",
    "\n",
    "# Training loop\n",
    "device = torch.device(\"cuda\" if torch.cuda.is_available() else \"cpu\")\n",
    "model.to(device)\n",
    "\n",
    "epochs = 10\n",
    "\n",
    "from transformers import get_scheduler\n",
    "num_training_steps = epochs * len(train_loader)\n",
    "lr_scheduler = get_scheduler(\n",
    "    \"linear\", optimizer=optimizer,\n",
    "    num_warmup_steps=500,\n",
    "    num_training_steps=num_training_steps\n",
    ")\n",
    "\n",
    "from torch.nn import CrossEntropyLoss\n",
    "\n",
    "# Count labels\n",
    "label_counts = torch.tensor([1271, 1271, 1271, 1271, 1087, 1270], dtype=torch.float)\n",
    "class_weights = 1.0 / label_counts\n",
    "class_weights = class_weights / class_weights.sum() * len(class_weights)\n",
    "\n",
    "loss_fn = CrossEntropyLoss(weight=class_weights.to(device))\n",
    "\n",
    "\n",
    "# Initialize variables to track the best model\n",
    "best_val_accuracy = 0.0  # You can also track best_val_loss if you prefer\n",
    "best_model_path = \"wav2vec2_emotion_classifier_best\"\n",
    "\n",
    "for epoch in range(epochs):\n",
    "    model.train()\n",
    "    total_loss = 0\n",
    "    correct_preds = 0\n",
    "    total_preds = 0\n",
    "    \n",
    "    for batch in tqdm(train_loader, desc=f\"Epoch {epoch+1} - Training\"):\n",
    "        batch = {key: value.to(device) for key, value in batch.items()}\n",
    "        inputs = batch['input_values']\n",
    "        attention_mask = batch['attention_mask']\n",
    "        labels = batch['labels']\n",
    "        \n",
    "        optimizer.zero_grad()\n",
    "        \n",
    "        outputs = model(input_values=inputs, attention_mask=attention_mask)\n",
    "        logits = outputs.logits\n",
    "        \n",
    "        loss = loss_fn(logits, labels)  # ✅ Use custom loss\n",
    "        \n",
    "        loss.backward()\n",
    "        optimizer.step()\n",
    "        lr_scheduler.step()\n",
    "\n",
    "        total_loss += loss.item()\n",
    "        preds = torch.argmax(logits, dim=-1)\n",
    "        correct_preds += (preds == labels).sum().item()\n",
    "        total_preds += labels.size(0)\n",
    "    \n",
    "    train_accuracy = correct_preds / total_preds\n",
    "    avg_train_loss = total_loss / len(train_loader)\n",
    "    \n",
    "    print(f\"Train Loss: {avg_train_loss:.4f} - Train Accuracy: {train_accuracy:.4f}\")\n",
    "    \n",
    "    # Validation loop\n",
    "    model.eval()\n",
    "    val_loss = 0\n",
    "    correct_preds = 0\n",
    "    total_preds = 0\n",
    "    with torch.no_grad():\n",
    "        for batch in tqdm(val_loader, desc=f\"Epoch {epoch+1} - Validation\"):\n",
    "            batch = {key: value.to(device) for key, value in batch.items()}\n",
    "            inputs = batch['input_values']\n",
    "            attention_mask = batch['attention_mask']\n",
    "            labels = batch['labels']\n",
    "            \n",
    "            outputs = model(input_values=inputs, attention_mask=attention_mask)\n",
    "            logits = outputs.logits\n",
    "            \n",
    "            loss = loss_fn(logits, labels)  # ✅ Use custom loss here too\n",
    "            \n",
    "            val_loss += loss.item()\n",
    "            preds = torch.argmax(logits, dim=-1)\n",
    "            correct_preds += (preds == labels).sum().item()\n",
    "            total_preds += labels.size(0)\n",
    "    \n",
    "    val_accuracy = correct_preds / total_preds\n",
    "    avg_val_loss = val_loss / len(val_loader)\n",
    "    \n",
    "    print(f\"Validation Loss: {avg_val_loss:.4f} - Validation Accuracy: {val_accuracy:.4f}\")\n",
    "    \n",
    "    # Save the best model\n",
    "    if val_accuracy > best_val_accuracy:\n",
    "        best_val_accuracy = val_accuracy\n",
    "        model.save_pretrained(best_model_path)\n",
    "        processor.save_pretrained(best_model_path)\n",
    "        print(f\"Saved the best model at epoch {epoch+1}.\")\n",
    "\n"
   ]
  },
  {
   "cell_type": "code",
   "execution_count": 25,
   "id": "3c92670f",
   "metadata": {},
   "outputs": [
    {
     "data": {
      "text/plain": [
       "Wav2Vec2ForSequenceClassification(\n",
       "  (wav2vec2): Wav2Vec2Model(\n",
       "    (feature_extractor): Wav2Vec2FeatureEncoder(\n",
       "      (conv_layers): ModuleList(\n",
       "        (0): Wav2Vec2GroupNormConvLayer(\n",
       "          (conv): Conv1d(1, 512, kernel_size=(10,), stride=(5,), bias=False)\n",
       "          (activation): GELUActivation()\n",
       "          (layer_norm): GroupNorm(512, 512, eps=1e-05, affine=True)\n",
       "        )\n",
       "        (1-4): 4 x Wav2Vec2NoLayerNormConvLayer(\n",
       "          (conv): Conv1d(512, 512, kernel_size=(3,), stride=(2,), bias=False)\n",
       "          (activation): GELUActivation()\n",
       "        )\n",
       "        (5-6): 2 x Wav2Vec2NoLayerNormConvLayer(\n",
       "          (conv): Conv1d(512, 512, kernel_size=(2,), stride=(2,), bias=False)\n",
       "          (activation): GELUActivation()\n",
       "        )\n",
       "      )\n",
       "    )\n",
       "    (feature_projection): Wav2Vec2FeatureProjection(\n",
       "      (layer_norm): LayerNorm((512,), eps=1e-05, elementwise_affine=True)\n",
       "      (projection): Linear(in_features=512, out_features=768, bias=True)\n",
       "      (dropout): Dropout(p=0.1, inplace=False)\n",
       "    )\n",
       "    (encoder): Wav2Vec2Encoder(\n",
       "      (pos_conv_embed): Wav2Vec2PositionalConvEmbedding(\n",
       "        (conv): ParametrizedConv1d(\n",
       "          768, 768, kernel_size=(128,), stride=(1,), padding=(64,), groups=16\n",
       "          (parametrizations): ModuleDict(\n",
       "            (weight): ParametrizationList(\n",
       "              (0): _WeightNorm()\n",
       "            )\n",
       "          )\n",
       "        )\n",
       "        (padding): Wav2Vec2SamePadLayer()\n",
       "        (activation): GELUActivation()\n",
       "      )\n",
       "      (layer_norm): LayerNorm((768,), eps=1e-05, elementwise_affine=True)\n",
       "      (dropout): Dropout(p=0.1, inplace=False)\n",
       "      (layers): ModuleList(\n",
       "        (0-11): 12 x Wav2Vec2EncoderLayer(\n",
       "          (attention): Wav2Vec2SdpaAttention(\n",
       "            (k_proj): Linear(in_features=768, out_features=768, bias=True)\n",
       "            (v_proj): Linear(in_features=768, out_features=768, bias=True)\n",
       "            (q_proj): Linear(in_features=768, out_features=768, bias=True)\n",
       "            (out_proj): Linear(in_features=768, out_features=768, bias=True)\n",
       "          )\n",
       "          (dropout): Dropout(p=0.1, inplace=False)\n",
       "          (layer_norm): LayerNorm((768,), eps=1e-05, elementwise_affine=True)\n",
       "          (feed_forward): Wav2Vec2FeedForward(\n",
       "            (intermediate_dropout): Dropout(p=0.0, inplace=False)\n",
       "            (intermediate_dense): Linear(in_features=768, out_features=3072, bias=True)\n",
       "            (intermediate_act_fn): GELUActivation()\n",
       "            (output_dense): Linear(in_features=3072, out_features=768, bias=True)\n",
       "            (output_dropout): Dropout(p=0.1, inplace=False)\n",
       "          )\n",
       "          (final_layer_norm): LayerNorm((768,), eps=1e-05, elementwise_affine=True)\n",
       "        )\n",
       "      )\n",
       "    )\n",
       "  )\n",
       "  (projector): Linear(in_features=768, out_features=256, bias=True)\n",
       "  (classifier): Linear(in_features=256, out_features=6, bias=True)\n",
       ")"
      ]
     },
     "execution_count": 25,
     "metadata": {},
     "output_type": "execute_result"
    }
   ],
   "source": [
    "from transformers import Wav2Vec2ForSequenceClassification, Wav2Vec2Processor\n",
    "# model_path = \"wav2vec2_emotion_classifier\"\n",
    "\n",
    "# Load model and processor\n",
    "model = Wav2Vec2ForSequenceClassification.from_pretrained(best_model_path)\n",
    "# processor = Wav2Vec2Processor.from_pretrained(model_path)\n",
    "device = torch.device(\"cuda\" if torch.cuda.is_available() else \"cpu\")\n",
    "model.to(device)  # Send model to GPU or CPU as needed\n",
    "model.eval()"
   ]
  },
  {
   "cell_type": "code",
   "execution_count": null,
   "id": "577348d9",
   "metadata": {},
   "outputs": [
    {
     "name": "stdout",
     "output_type": "stream",
     "text": [
      "Validation Accuracy: 55.14%\n"
     ]
    }
   ],
   "source": [
    "from sklearn.metrics import accuracy_score\n",
    "\n",
    "# Inference loop\n",
    "true_labels = []\n",
    "pred_labels = []\n",
    "\n",
    "with torch.no_grad():\n",
    "    for batch in val_loader:\n",
    "        input_values = batch['input_values'].to(device)\n",
    "        attention_mask = batch.get('attention_mask')\n",
    "        if attention_mask is not None:\n",
    "            attention_mask = attention_mask.to(device)\n",
    "\n",
    "        labels = batch['labels'].to(device)\n",
    "\n",
    "        outputs = model(input_values, attention_mask=attention_mask)\n",
    "        logits = outputs.logits\n",
    "        predictions = torch.argmax(logits, dim=-1)\n",
    "\n",
    "        true_labels.extend(labels.cpu().numpy())\n",
    "        pred_labels.extend(predictions.cpu().numpy())\n",
    "\n",
    "# Accuracy\n",
    "accuracy = accuracy_score(true_labels, pred_labels)\n",
    "print(f\"Validation Accuracy: {accuracy * 100:.2f}%\")\n",
    "# best  Validation Accuracy: 55.14%"
   ]
  },
  {
   "cell_type": "code",
   "execution_count": 28,
   "id": "a5d8614a",
   "metadata": {},
   "outputs": [
    {
     "data": {
      "text/plain": [
       "0.5390588551657565"
      ]
     },
     "execution_count": 28,
     "metadata": {},
     "output_type": "execute_result"
    }
   ],
   "source": [
    "from sklearn.metrics import f1_score\n",
    "\n",
    "val_f1 = f1_score(true_labels, pred_labels, average=\"weighted\")\n",
    "val_f1"
   ]
  },
  {
   "cell_type": "code",
   "execution_count": 29,
   "id": "8b55f5af",
   "metadata": {},
   "outputs": [
    {
     "name": "stdout",
     "output_type": "stream",
     "text": [
      "              precision    recall  f1-score   support\n",
      "\n",
      "         ANG       0.66      0.80      0.73       237\n",
      "         DIS       0.45      0.28      0.34       268\n",
      "         FEA       0.56      0.45      0.50       246\n",
      "         HAP       0.60      0.52      0.55       259\n",
      "         NEU       0.53      0.74      0.62       210\n",
      "         SAD       0.49      0.58      0.53       269\n",
      "\n",
      "    accuracy                           0.55      1489\n",
      "   macro avg       0.55      0.56      0.54      1489\n",
      "weighted avg       0.54      0.55      0.54      1489\n",
      "\n"
     ]
    }
   ],
   "source": [
    "labels = [label for label, idx in sorted(emotion_map.items(), key=lambda x: x[1])]\n",
    "\n",
    "from sklearn.metrics import classification_report\n",
    "print(classification_report(true_labels, pred_labels, target_names=labels))"
   ]
  },
  {
   "cell_type": "code",
   "execution_count": 11,
   "id": "75cb91a3",
   "metadata": {},
   "outputs": [
    {
     "data": {
      "image/png": "[encoded data removed]",
      "text/plain": [
       "<Figure size 1000x800 with 2 Axes>"
      ]
     },
     "metadata": {},
     "output_type": "display_data"
    }
   ],
   "source": [
    "import matplotlib.pyplot as plt\n",
    "import seaborn as sns\n",
    "from sklearn.metrics import confusion_matrix, ConfusionMatrixDisplay\n",
    "\n",
    "# Compute confusion matrix\n",
    "cm = confusion_matrix(true_labels, pred_labels)\n",
    "labels = list(emotion_map.values())  # Ensure this matches the order in your label encoding\n",
    "\n",
    "# Plot using seaborn\n",
    "plt.figure(figsize=(10, 8))\n",
    "sns.heatmap(cm, annot=True, fmt='d', xticklabels=labels, yticklabels=labels, cmap='Blues')\n",
    "plt.xlabel('Predicted')\n",
    "plt.ylabel('True')\n",
    "plt.title('Confusion Matrix')\n",
    "plt.tight_layout()\n",
    "plt.show()"
   ]
  }
 ],
 "metadata": {
  "kernelspec": {
   "display_name": "my_env",
   "language": "python",
   "name": "python3"
  },
  "language_info": {
   "codemirror_mode": {
    "name": "ipython",
    "version": 3
   },
   "file_extension": ".py",
   "mimetype": "text/x-python",
   "name": "python",
   "nbconvert_exporter": "python",
   "pygments_lexer": "ipython3",
   "version": "3.12.3"
  }
 },
 "nbformat": 4,
 "nbformat_minor": 5
}
